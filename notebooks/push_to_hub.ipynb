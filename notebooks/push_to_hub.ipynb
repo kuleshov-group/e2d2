{
 "cells": [
  {
   "cell_type": "markdown",
   "id": "7605c783-be47-43bd-a9be-24d1c8b02d43",
   "metadata": {},
   "source": [
    "### Init model from config.yaml (and checkpoint)"
   ]
  },
  {
   "cell_type": "code",
   "execution_count": null,
   "id": "b5a89f1c-8865-449f-98c3-6def549e4f5d",
   "metadata": {},
   "outputs": [],
   "source": [
    "import os\n",
    "import yaml\n",
    "\n",
    "import hydra\n",
    "import torch\n",
    "import transformers\n",
    "from transformers import AutoModel\n",
    "from composer.models import write_huggingface_pretrained_from_composer_checkpoint\n",
    "from omegaconf import OmegaConf"
   ]
  },
  {
   "cell_type": "code",
   "execution_count": null,
   "id": "bfa22c21-ee37-4c41-ac23-c0dce0b9230a",
   "metadata": {},
   "outputs": [],
   "source": [
    "path_to_ckpt_dir = \"\"  # TODO: Fill in ckpt_dir path\n",
    "with open(os.path.join(path_to_ckpt_dir, \"config.yaml\", \"rb\")) as f:\n",
    "    config = yaml.safe_load(f)"
   ]
  },
  {
   "cell_type": "code",
   "execution_count": null,
   "id": "caa5fe75-2633-4a65-a9ac-2f3f9642e218",
   "metadata": {},
   "outputs": [],
   "source": [
    "tokenizer = hydra.utils.instantiate(config.tokenizer)\n",
    "model = hydra.utils.instantiate(\n",
    "    config.model,\n",
    "    _convert_=\"all\",\n",
    ")"
   ]
  },
  {
   "cell_type": "code",
   "execution_count": null,
   "id": "3c5fae05-61b2-49cb-aa21-12a61c5af729",
   "metadata": {},
   "outputs": [],
   "source": [
    "ckpt_file = \"latest-rank0.pt\"  # TODO: Choose ckpt file\n",
    "try:\n",
    "    ckpt = torch.load(\n",
    "        os.path.join(path_to_ckpt_dir, \"checkpoints\", ckpt_file), weights_only=False\n",
    "    )\n",
    "    state_dict = ckpt[\"state\"][\"model\"]\n",
    "    torch.nn.modules.utils.consume_prefix_in_state_dict_if_present(state_dict, \"model.\")\n",
    "    model.load_state_dict(state_dict)\n",
    "except FileNotFoundError as e:\n",
    "    print(e)"
   ]
  },
  {
   "cell_type": "markdown",
   "id": "9a865faf-f22c-428f-bad8-69a12dc0bf82",
   "metadata": {},
   "source": [
    "### Test push to hub"
   ]
  },
  {
   "cell_type": "code",
   "execution_count": null,
   "id": "7e2edb54-d4ac-4ff0-a4f8-2a08319e5cbc",
   "metadata": {},
   "outputs": [],
   "source": [
    "from src.utils import push_to_hub"
   ]
  },
  {
   "cell_type": "code",
   "execution_count": null,
   "id": "7214189e-3fae-4c20-89ca-7bc2ed66d543",
   "metadata": {},
   "outputs": [],
   "source": [
    "push_to_hub(\n",
    "    model=model,\n",
    "    tokenizer=tokenizer,\n",
    "    # repo_id=\"\",  # TODO: Set this to local path and `local=True` below to test local saving\n",
    "    # local=True,  # TODO: Uncomment for testing local saving\n",
    ")"
   ]
  },
  {
   "cell_type": "markdown",
   "id": "736d1d88-0cba-4517-8d1e-4ac06a80f8a4",
   "metadata": {},
   "source": [
    "#### Test round trip"
   ]
  },
  {
   "cell_type": "code",
   "execution_count": null,
   "id": "f7eb9e7e-f11c-4f0f-8fc2-9fb2f8e763b9",
   "metadata": {},
   "outputs": [],
   "source": [
    "from transformers import AutoModel"
   ]
  },
  {
   "cell_type": "code",
   "execution_count": null,
   "id": "90056a76-ba97-442b-879a-6bb969ed91f0",
   "metadata": {},
   "outputs": [],
   "source": [
    "test_model = AutoModel.from_pretrained(\n",
    "    \"kuleshov-group/dllm-dev\",  # TODO: Change to local path from above to test loading from locally saved checkpoint\n",
    "    trust_remote_code=True,\n",
    ")"
   ]
  },
  {
   "cell_type": "code",
   "execution_count": null,
   "id": "d16d1186-d057-40f7-a427-b036ca913300",
   "metadata": {},
   "outputs": [],
   "source": [
    "test_model.config"
   ]
  },
  {
   "cell_type": "code",
   "execution_count": null,
   "id": "907c4cd9-49d7-41a5-bf70-911c8a746a24",
   "metadata": {},
   "outputs": [],
   "source": [
    "test_model"
   ]
  },
  {
   "cell_type": "code",
   "execution_count": null,
   "id": "24b96453-0f63-47d1-a42d-f35b718d9c19",
   "metadata": {},
   "outputs": [],
   "source": []
  }
 ],
 "metadata": {
  "kernelspec": {
   "display_name": "Python 3 (ipykernel)",
   "language": "python",
   "name": "python3"
  },
  "language_info": {
   "codemirror_mode": {
    "name": "ipython",
    "version": 3
   },
   "file_extension": ".py",
   "mimetype": "text/x-python",
   "name": "python",
   "nbconvert_exporter": "python",
   "pygments_lexer": "ipython3",
   "version": "3.12.9"
  }
 },
 "nbformat": 4,
 "nbformat_minor": 5
}
