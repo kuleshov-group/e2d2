{
 "cells": [
  {
   "cell_type": "markdown",
   "id": "7605c783-be47-43bd-a9be-24d1c8b02d43",
   "metadata": {},
   "source": [
    "### Init model from config.yaml (and checkpoint)"
   ]
  },
  {
   "cell_type": "code",
   "execution_count": null,
   "id": "b5a89f1c-8865-449f-98c3-6def549e4f5d",
   "metadata": {},
   "outputs": [],
   "source": [
    "import os\n",
    "import yaml\n",
    "\n",
    "import hydra\n",
    "import torch\n",
    "import transformers\n",
    "from transformers import AutoModel\n",
    "from composer.models import write_huggingface_pretrained_from_composer_checkpoint\n",
    "from omegaconf import OmegaConf\n",
    "\n",
    "from scripts.utils import load_model_from_ckpt_dir_path"
   ]
  },
  {
   "cell_type": "code",
   "execution_count": null,
   "id": "bfa22c21-ee37-4c41-ac23-c0dce0b9230a",
   "metadata": {},
   "outputs": [],
   "source": [
    "path_to_ckpt_dir = \"\"  # TODO: Fill in ckpt_dir path\n",
    "with open(os.path.join(path_to_ckpt_dir, \"config.yaml\"), \"rb\") as f:\n",
    "    config = yaml.safe_load(f)\n",
    "config = OmegaConf.create(config)"
   ]
  },
  {
   "cell_type": "code",
   "execution_count": null,
   "id": "caa5fe75-2633-4a65-a9ac-2f3f9642e218",
   "metadata": {},
   "outputs": [],
   "source": [
    "tokenizer = hydra.utils.instantiate(config.tokenizer)"
   ]
  },
  {
   "cell_type": "code",
   "execution_count": null,
   "id": "3c5fae05-61b2-49cb-aa21-12a61c5af729",
   "metadata": {},
   "outputs": [],
   "source": [
    "ckpt_file = \"best-rank0.pt\"\n",
    "use_ema = True\n",
    "model = load_model_from_ckpt_dir_path(\n",
    "    path_to_ckpt_dir=path_to_ckpt_dir,\n",
    "    ckpt_file=ckpt_file,\n",
    "    load_ema_weights=use_ema,\n",
    ")"
   ]
  },
  {
   "cell_type": "markdown",
   "id": "9a865faf-f22c-428f-bad8-69a12dc0bf82",
   "metadata": {},
   "source": [
    "### Test push to hub"
   ]
  },
  {
   "cell_type": "code",
   "execution_count": null,
   "id": "7e2edb54-d4ac-4ff0-a4f8-2a08319e5cbc",
   "metadata": {},
   "outputs": [],
   "source": [
    "from src.utils import save_pretrained_or_push_to_hub"
   ]
  },
  {
   "cell_type": "code",
   "execution_count": null,
   "id": "7214189e-3fae-4c20-89ca-7bc2ed66d543",
   "metadata": {},
   "outputs": [],
   "source": [
    "save_pretrained_or_push_to_hub(\n",
    "    model=model,\n",
    "    tokenizer=tokenizer,\n",
    "    repo_id=\"\",  # TODO: Set this to local path and `local=True` below to test local saving\n",
    "    private=False,\n",
    "    # local=True,  # TODO: Uncomment for testing local saving\n",
    ")"
   ]
  },
  {
   "cell_type": "markdown",
   "id": "736d1d88-0cba-4517-8d1e-4ac06a80f8a4",
   "metadata": {},
   "source": [
    "#### Test round trip"
   ]
  },
  {
   "cell_type": "code",
   "execution_count": null,
   "id": "f7eb9e7e-f11c-4f0f-8fc2-9fb2f8e763b9",
   "metadata": {},
   "outputs": [],
   "source": [
    "from transformers import AutoModelForMaskedLM"
   ]
  },
  {
   "cell_type": "code",
   "execution_count": null,
   "id": "90056a76-ba97-442b-879a-6bb969ed91f0",
   "metadata": {},
   "outputs": [],
   "source": [
    "test_model = AutoModelForMaskedLM.from_pretrained(\n",
    "    \"\",  # TODO: Change to local path from above to test loading from locally saved checkpoint\n",
    "    trust_remote_code=True,\n",
    ")"
   ]
  },
  {
   "cell_type": "code",
   "execution_count": null,
   "id": "b660199f-2f80-4435-bbcd-b6650a0199ce",
   "metadata": {},
   "outputs": [],
   "source": [
    "test_model"
   ]
  },
  {
   "cell_type": "code",
   "execution_count": null,
   "id": "7604ffab-ee03-4369-aab8-660ee8a3c215",
   "metadata": {},
   "outputs": [],
   "source": []
  }
 ],
 "metadata": {
  "kernelspec": {
   "display_name": "Python 3 (ipykernel)",
   "language": "python",
   "name": "python3"
  },
  "language_info": {
   "codemirror_mode": {
    "name": "ipython",
    "version": 3
   },
   "file_extension": ".py",
   "mimetype": "text/x-python",
   "name": "python",
   "nbconvert_exporter": "python",
   "pygments_lexer": "ipython3",
   "version": "3.12.12"
  }
 },
 "nbformat": 4,
 "nbformat_minor": 5
}
